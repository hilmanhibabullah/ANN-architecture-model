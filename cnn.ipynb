{
  "nbformat": 4,
  "nbformat_minor": 0,
  "metadata": {
    "colab": {
      "provenance": [],
      "authorship_tag": "ABX9TyPVSfCIjga18uWl2ILkhqBb",
      "include_colab_link": true
    },
    "kernelspec": {
      "name": "python3",
      "display_name": "Python 3"
    },
    "language_info": {
      "name": "python"
    },
    "accelerator": "GPU"
  },
  "cells": [
    {
      "cell_type": "markdown",
      "metadata": {
        "id": "view-in-github",
        "colab_type": "text"
      },
      "source": [
        "<a href=\"https://colab.research.google.com/github/hilmanhibabullah/ANN-architecture-model/blob/master/cnn.ipynb\" target=\"_parent\"><img src=\"https://colab.research.google.com/assets/colab-badge.svg\" alt=\"Open In Colab\"/></a>"
      ]
    },
    {
      "cell_type": "markdown",
      "source": [
        "# CNN"
      ],
      "metadata": {
        "id": "kNMGtL8u20KW"
      }
    },
    {
      "cell_type": "code",
      "source": [
        "from google.colab import drive\n",
        "drive.mount('/content/gdrive')"
      ],
      "metadata": {
        "id": "RoIVnQwwBbn9"
      },
      "execution_count": null,
      "outputs": []
    },
    {
      "cell_type": "code",
      "source": [
        "% cd /content/gdrive/My Drive/model_klasifikasi_motogp"
      ],
      "metadata": {
        "colab": {
          "base_uri": "https://localhost:8080/"
        },
        "id": "xwAZpyAk4ELh",
        "outputId": "02b1f8b0-9fd2-4ba8-b611-4d6c012a12d5"
      },
      "execution_count": null,
      "outputs": [
        {
          "output_type": "stream",
          "name": "stdout",
          "text": [
            "/content/gdrive/My Drive/model_klasifikasi_motogp\n"
          ]
        }
      ]
    },
    {
      "cell_type": "code",
      "source": [
        "! ls dataset_motogp"
      ],
      "metadata": {
        "colab": {
          "base_uri": "https://localhost:8080/"
        },
        "id": "rUGZx90z4UBL",
        "outputId": "e0fc7517-0f8d-403e-8e28-65d91b3ec6a3"
      },
      "execution_count": null,
      "outputs": [
        {
          "output_type": "stream",
          "name": "stdout",
          "text": [
            "lorenzo  marquez  pedrosa  rossi  vinales\n"
          ]
        }
      ]
    },
    {
      "cell_type": "code",
      "source": [
        "import os\n",
        "a\n",
        "#eksplorasi direktori\n",
        "\n",
        "for dirpath, dirnames, filenames in os.walk('dataset_motogp'):\n",
        "  print(f'ada {len(dirnames)} direktori dan {len(filenames)} gambar didalam {dirpath}')"
      ],
      "metadata": {
        "colab": {
          "base_uri": "https://localhost:8080/",
          "height": 241
        },
        "id": "prPn9xbA4VDa",
        "outputId": "1c61dbdc-5d58-442d-d4a4-3bc7b6e7f30a"
      },
      "execution_count": null,
      "outputs": [
        {
          "output_type": "error",
          "ename": "NameError",
          "evalue": "ignored",
          "traceback": [
            "\u001b[0;31m---------------------------------------------------------------------------\u001b[0m",
            "\u001b[0;31mNameError\u001b[0m                                 Traceback (most recent call last)",
            "\u001b[0;32m<ipython-input-4-8a0a526d12ab>\u001b[0m in \u001b[0;36m<module>\u001b[0;34m()\u001b[0m\n\u001b[1;32m      1\u001b[0m \u001b[0;32mimport\u001b[0m \u001b[0mos\u001b[0m\u001b[0;34m\u001b[0m\u001b[0;34m\u001b[0m\u001b[0m\n\u001b[0;32m----> 2\u001b[0;31m \u001b[0ma\u001b[0m\u001b[0;34m\u001b[0m\u001b[0;34m\u001b[0m\u001b[0m\n\u001b[0m\u001b[1;32m      3\u001b[0m \u001b[0;31m#eksplorasi direktori\u001b[0m\u001b[0;34m\u001b[0m\u001b[0;34m\u001b[0m\u001b[0;34m\u001b[0m\u001b[0m\n\u001b[1;32m      4\u001b[0m \u001b[0;34m\u001b[0m\u001b[0m\n\u001b[1;32m      5\u001b[0m \u001b[0;32mfor\u001b[0m \u001b[0mdirpath\u001b[0m\u001b[0;34m,\u001b[0m \u001b[0mdirnames\u001b[0m\u001b[0;34m,\u001b[0m \u001b[0mfilenames\u001b[0m \u001b[0;32min\u001b[0m \u001b[0mos\u001b[0m\u001b[0;34m.\u001b[0m\u001b[0mwalk\u001b[0m\u001b[0;34m(\u001b[0m\u001b[0;34m'dataset_motogp'\u001b[0m\u001b[0;34m)\u001b[0m\u001b[0;34m:\u001b[0m\u001b[0;34m\u001b[0m\u001b[0;34m\u001b[0m\u001b[0m\n",
            "\u001b[0;31mNameError\u001b[0m: name 'a' is not defined"
          ]
        }
      ]
    },
    {
      "cell_type": "code",
      "source": [
        "import pathlib\n",
        "import numpy as np\n",
        "\n",
        "data_dir = pathlib.Path('dataset_motogp')\n",
        "class_names = np.array(sorted([item.name for item in data_dir.glob('*')]))\n",
        "print(class_names)"
      ],
      "metadata": {
        "id": "V3Jw8e3d4X5M"
      },
      "execution_count": null,
      "outputs": []
    },
    {
      "cell_type": "code",
      "source": [
        "# view image\n",
        "\n",
        "import matplotlib.pyplot as plt\n",
        "import matplotlib.image as mpimg\n",
        "import random\n",
        "\n",
        "def view_random_image(target_dir, target_class):\n",
        "  target_folder = target_dir + target_class\n",
        "\n",
        "  # ambil sembarang\n",
        "  random_image = random.sample(os.listdir(target_folder), 1)\n",
        "\n",
        "  img = mpimg.imread(target_folder + '/' + random_image[0])\n",
        "  plt.imshow(img);\n",
        "  plt.title(target_class);\n",
        "  plt.axis('off');\n",
        "\n",
        "  print(f'image shape: {img.shape}')\n",
        "  return img"
      ],
      "metadata": {
        "id": "LK_en-zP4aQ5"
      },
      "execution_count": null,
      "outputs": []
    },
    {
      "cell_type": "code",
      "source": [
        "img = view_random_image(target_dir='dataset_motogp/',\n",
        "                        target_class='lorenzo')"
      ],
      "metadata": {
        "id": "wVoorB2E4bpj"
      },
      "execution_count": null,
      "outputs": []
    },
    {
      "cell_type": "markdown",
      "source": [
        "# Image data Generator"
      ],
      "metadata": {
        "id": "J2d7K7Bp4jYR"
      }
    },
    {
      "cell_type": "code",
      "source": [
        "import tensorflow as tf\n",
        "from tensorflow.keras.preprocessing.image import ImageDataGenerator\n",
        "\n",
        "tf.random.set_seed(46)\n",
        "\n",
        "# preprocess data\n",
        "train_datagen = ImageDataGenerator(rescale=1.0/255)\n",
        "#valid_datagen = ImageDataGenerator(rescale=1.0/255)\n",
        "\n",
        "img_dir = 'dataset_motogp/'\n",
        "\n",
        "# set data generator\n",
        "\n",
        "train_data = train_datagen.flow_from_directory(img_dir,\n",
        "                                               batch_size=16,\n",
        "                                               target_size=(256, 256),\n",
        "                                               class_mode='categorical',\n",
        "                                               seed=46)"
      ],
      "metadata": {
        "id": "ZPSlyHMn4d8H"
      },
      "execution_count": null,
      "outputs": []
    },
    {
      "cell_type": "markdown",
      "source": [
        "## CNN model"
      ],
      "metadata": {
        "id": "sXEerm-k6Nzl"
      }
    },
    {
      "cell_type": "code",
      "source": [
        "from tensorflow.keras.models import Sequential\n",
        "from tensorflow.keras.layers import Conv2D, MaxPool2D, Flatten, Dense\n",
        "\n",
        "model = Sequential()\n",
        "model.add(Conv2D(16,3, activation='relu',input_shape=(256,256,3)))\n",
        "model.add(MaxPool2D(2))\n",
        "model.add(Conv2D(32,3, activation='relu'))\n",
        "model.add(MaxPool2D(2))\n",
        "model.add(Conv2D(64,3, activation='relu'))\n",
        "model.add(Flatten())\n",
        "model.add(Dense(64, activation='relu'))\n",
        "model.add(Dense(16, activation='relu'))\n",
        "model.add(Dense(6, activation='softmax'))\n",
        "\n",
        "#compile\n",
        "model.compile(loss='categorical_crossentropy',\n",
        "              optimizer='adam',\n",
        "              metrics=['accuracy'])\n",
        "\n",
        "# training\n",
        "\n",
        "history = model.fit(train_data,\n",
        "                    epochs=30)\n"
      ],
      "metadata": {
        "id": "_LHwKN7_6KOt"
      },
      "execution_count": null,
      "outputs": []
    },
    {
      "cell_type": "code",
      "source": [],
      "metadata": {
        "id": "6FgmeT1y6KGF"
      },
      "execution_count": null,
      "outputs": []
    },
    {
      "cell_type": "code",
      "source": [],
      "metadata": {
        "id": "ynjMC5fB6J_p"
      },
      "execution_count": null,
      "outputs": []
    }
  ]
}